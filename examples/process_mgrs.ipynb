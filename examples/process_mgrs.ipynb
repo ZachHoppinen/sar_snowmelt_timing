{
 "cells": [
  {
   "cell_type": "markdown",
   "id": "9c210dcf-6759-40ec-a94c-9d1650f8b101",
   "metadata": {},
   "source": [
    "# Process MGRS Squares"
   ]
  },
  {
   "cell_type": "code",
   "execution_count": null,
   "id": "4d6106ed-a1c1-4c12-a5f9-59eca1206dd2",
   "metadata": {},
   "outputs": [],
   "source": [
    "# need to upgrade odc-stac to fix keyerror issue for some tiles\n",
    "!pip install -q odc-stac -U"
   ]
  },
  {
   "cell_type": "code",
   "execution_count": null,
   "id": "d00fbe7f-a0eb-46c0-9df2-e31f92fad3e3",
   "metadata": {},
   "outputs": [],
   "source": [
    "import numpy as np\n",
    "import pandas as pd\n",
    "import geopandas as gpd\n",
    "import rasterio as rio\n",
    "import pystac\n",
    "import pystac_client\n",
    "import stackstac\n",
    "import matplotlib.pyplot as plt\n",
    "import xarray as xr\n",
    "from datetime import datetime\n",
    "import matplotlib\n",
    "import ipyleaflet\n",
    "import sys\n",
    "import os\n",
    "import dask_gateway\n",
    "import planetary_computer\n",
    "from rechunker import rechunk\n",
    "sys.path.append('../sar_snowmelt_timing')\n",
    "import s1_rtc_bs_utils\n",
    "import contextily as ctx\n",
    "import rioxarray as rxr\n",
    "import skimage\n",
    "import pathlib\n",
    "import glob\n",
    "import re\n",
    "import time\n",
    "import fsspec"
   ]
  },
  {
   "cell_type": "code",
   "execution_count": null,
   "id": "43227182-940a-4b92-b10b-a724549a4523",
   "metadata": {},
   "outputs": [],
   "source": [
    "cluster = dask_gateway.GatewayCluster()\n",
    "client = cluster.get_client()\n",
    "cluster.adapt(minimum=100, maximum=400)\n",
    "print(client.dashboard_link)"
   ]
  },
  {
   "cell_type": "code",
   "execution_count": null,
   "id": "67ec7121-6e3c-4164-ba1c-6baaca1d8f01",
   "metadata": {},
   "outputs": [],
   "source": [
    "url = 'https://github.com/scottyhq/mgrs/raw/main/MGRS_LAND.parquet' # Scott created an MGRS parquet file here https://github.com/scottyhq/mgrs\n",
    "with fsspec.open(url) as file:\n",
    "    mgrs_gdf = gpd.read_parquet(file)"
   ]
  },
  {
   "cell_type": "code",
   "execution_count": null,
   "id": "ac7a2e41-6ed6-460e-8512-f12d9310507c",
   "metadata": {},
   "outputs": [],
   "source": [
    "tile_names_10T = list(mgrs_gdf[mgrs_gdf.tile.str.match('10T[DEFG]')].tile)"
   ]
  },
  {
   "cell_type": "code",
   "execution_count": null,
   "id": "e405868c-ce39-48a8-bdf1-0c81a51c01de",
   "metadata": {},
   "outputs": [],
   "source": [
    "tile_names = open('../input/MGRS_square_list/square_list.txt','r').readlines()\n",
    "tile_names = [i.rstrip('\\n') for i in tile_names]"
   ]
  },
  {
   "cell_type": "code",
   "execution_count": null,
   "id": "c4cca46c-f455-40e9-a4a3-f389139333f7",
   "metadata": {},
   "outputs": [],
   "source": [
    "tile_names = [tile for tile in tile_names if tile in tile_names_10T]"
   ]
  },
  {
   "cell_type": "code",
   "execution_count": null,
   "id": "fc3d31af-bf58-4426-87d9-8479e78ac347",
   "metadata": {},
   "outputs": [],
   "source": [
    "years = [2015,2016,2017,2018,2019,2020,2021,2022]"
   ]
  },
  {
   "cell_type": "code",
   "execution_count": null,
   "id": "fe6fa788-333c-4d49-92cf-8c918ab28577",
   "metadata": {},
   "outputs": [],
   "source": [
    "resolution = 40"
   ]
  },
  {
   "cell_type": "code",
   "execution_count": null,
   "id": "99bad23c-d03b-452a-b094-dd717f8ed72f",
   "metadata": {},
   "outputs": [],
   "source": [
    "classes = [ # page 13 of https://esa-worldcover.s3.amazonaws.com/v100/2020/docs/WorldCover_PUM_V1.0.pdf\n",
    "#    10, # treecover\n",
    "    20, # shrubland\n",
    "    30, # grassland\n",
    "    40, # cropland\n",
    "#    50, # built-up\n",
    "    60, #bare / sparse vegetation\n",
    "    70, # snow and ice\n",
    "#    80, # permanent water bodies\n",
    "    90, # herbaceous wetlands\n",
    "    95, # mangroves\n",
    "    100 # loss and lichen\n",
    "]"
   ]
  },
  {
   "cell_type": "code",
   "execution_count": null,
   "id": "fa6d40fa-9abc-4932-a50d-158f1786cd54",
   "metadata": {
    "tags": []
   },
   "outputs": [],
   "source": [
    "for nm in tile_names:\n",
    "    print(f'Processing {nm}:')\n",
    "    bbox_gdf = mgrs_gdf[mgrs_gdf.tile==nm]\n",
    "    ts_ds = s1_rtc_bs_utils.get_s1_rtc_stac_odc_pc(bbox_gdf,start_time='2014-01-01',end_time='2022-12-31',resolution=resolution)\n",
    "    worldcover = s1_rtc_bs_utils.get_worldcover(ts_ds)\n",
    "    ts_ds = ts_ds.where(worldcover.isin(classes))\n",
    "    \n",
    "    path = f'../output/MGRS/{nm}' \n",
    "    savedir = pathlib.Path(path)\n",
    "    savedir.mkdir(parents=True,exist_ok=True)\n",
    "    \n",
    "    for year in years:\n",
    "        print(f'Processing {year}...')\n",
    "        tic = time.perf_counter()\n",
    "        one_year = slice(f'{year}-01-01',f'{year}-12-31')\n",
    "        ts_ds_oneyear = ts_ds.sel(time=one_year) \n",
    "        # does this rechunking step help time\n",
    "        #ts_ds_oneyear = ts_ds_oneyear.chunk((100,1,512,512))\n",
    "        runoffs_median = s1_rtc_bs_utils.get_runoff_onset(ts_ds_oneyear)\n",
    "        runoffs_median_computed = runoffs_median.compute()\n",
    "        # add write crs step\n",
    "        runoffs_median_computed.rio.write_crs(rio.CRS.from_epsg(bbox_gdf['epsg']),inplace=True)\n",
    "        runoffs_median_computed.dt.dayofyear.rio.to_raster(f'../output/MGRS/{nm}/runoff_onset_{nm}_{year}_median_{resolution}m.tif')\n",
    "        toc = time.perf_counter()\n",
    "        print(f'Processing time: {toc - tic:0.1f} seconds')\n",
    "print(f'Done!')"
   ]
  },
  {
   "cell_type": "markdown",
   "id": "9637365a-c4e4-4d23-a0cd-8c9dca412e9a",
   "metadata": {},
   "source": [
    "# Now loop through all folders, create an all year median"
   ]
  },
  {
   "cell_type": "code",
   "execution_count": null,
   "id": "d411b806-a010-40d4-98e1-32057bd49cc3",
   "metadata": {},
   "outputs": [],
   "source": [
    "for nm in tile_names:\n",
    "    print(f'Processing {nm}:')\n",
    "    geotiff_list = glob.glob(f'../output/MGRS/{nm}/runoff_onset_*.tif')\n",
    "    \n",
    "    year_list = []\n",
    "    for geotiff in geotiff_list:\n",
    "        year_list.append(re.search(\"([0-9]{4})\", geotiff).group(0))\n",
    "    year_list = [int(year) for year in year_list]\n",
    "\n",
    "     #Create variable used for time axis\n",
    "    time_var = xr.Variable('time', year_list)\n",
    "\n",
    "    # Load in and concatenate all individual GeoTIFFs\n",
    "    runoffs_allyears = xr.concat([rxr.open_rasterio(i) for i in geotiff_list],dim=time_var).squeeze().sortby('time')\n",
    "    \n",
    "    #runoffs_allyears.plot(col='time')\n",
    "    runoffs_allyears.median(dim='time').rio.to_raster(f'../output/MGRS/{nm}/runoff_onset_{nm}_allyears_median_{resolution}m.tif')\n",
    "    runoffs_allyears.std(dim='time').rio.to_raster(f'../output/MGRS/{nm}/runoff_onset_{nm}_allyears_std_{resolution}m.tif')\n",
    "    polyfits= runoffs_allyears.polyfit('time',deg=1,full=True,cov=True)\n",
    "    polyfits.polyfit_coefficients[0].rio.set_crs(runoffs_allyears.rio.crs).rio.to_raster(f'../output/MGRS/{nm}/runoff_onset_{nm}_allyears_polyfit_{resolution}m.tif')\n",
    "    xr.corr(runoffs_allyears.time,runoffs_allyears,dim='time').rio.set_crs(runoffs_allyears.rio.crs).rio.to_raster(f'../output/MGRS/{nm}/runoff_onset_{nm}_allyears_corr_strength_{resolution}m.tif')"
   ]
  },
  {
   "cell_type": "code",
   "execution_count": null,
   "id": "625e8916-20aa-442a-8ed6-ca923f6a73cf",
   "metadata": {},
   "outputs": [],
   "source": []
  },
  {
   "cell_type": "code",
   "execution_count": null,
   "id": "5fb95a97-9136-4358-857a-50c0e6c80853",
   "metadata": {},
   "outputs": [],
   "source": []
  },
  {
   "cell_type": "code",
   "execution_count": null,
   "id": "f5aef114-7a3b-4c7e-81db-380a4a8a786e",
   "metadata": {},
   "outputs": [],
   "source": []
  },
  {
   "cell_type": "code",
   "execution_count": null,
   "id": "d5cc2648-5251-4d4c-ac8a-2c02c8c8da72",
   "metadata": {},
   "outputs": [],
   "source": []
  },
  {
   "cell_type": "code",
   "execution_count": null,
   "id": "f0c0c40f-6795-47f8-8e30-688b8768e795",
   "metadata": {},
   "outputs": [],
   "source": []
  }
 ],
 "metadata": {
  "kernelspec": {
   "display_name": "Python [conda env:notebook] *",
   "language": "python",
   "name": "conda-env-notebook-py"
  },
  "language_info": {
   "codemirror_mode": {
    "name": "ipython",
    "version": 3
   },
   "file_extension": ".py",
   "mimetype": "text/x-python",
   "name": "python",
   "nbconvert_exporter": "python",
   "pygments_lexer": "ipython3",
   "version": "3.10.6"
  }
 },
 "nbformat": 4,
 "nbformat_minor": 5
}

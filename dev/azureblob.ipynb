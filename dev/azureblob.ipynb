{
 "cells": [
  {
   "cell_type": "code",
   "execution_count": 2,
   "id": "7cb0a4ef-c12a-4689-b764-3e604191d6b9",
   "metadata": {},
   "outputs": [],
   "source": [
    "import adlfs\n",
    "import getpass\n",
    "import azure.storage.blob\n",
    "import io\n",
    "import sys\n",
    "import requests\n"
   ]
  },
  {
   "cell_type": "code",
   "execution_count": 3,
   "id": "06caa02d-461d-43fc-8b58-e7fd12db0719",
   "metadata": {},
   "outputs": [],
   "source": [
    "#!export AZURE_STORAGE_ACCOUNT=snowmelt\n",
    "#!export AZURE_STORAGE_SAS_TOKEN=\"se=2023-02-13T19%3A15Z&sp=racwdl&sv=2018-11-09&sr=c&skoid=b4d39ccb-ca9c-4e9d-a183-5e0f3ba3e609&sktid=f6b6dd5b-f02f-441a-99a0-162ac5060bd2&skt=2023-02-06T19%3A16%3A18Z&ske=2023-02-13T19%3A15%3A00Z&sks=b&skv=2018-11-09&sig=z/AIiFdLunJ/tg9i/gJUqvLRgRxghWgXiIyAm1sV2Zo%3D\"\n",
    "#!gdalinfo /vsiaz/snowmelt/ndvi-wb.tif"
   ]
  },
  {
   "cell_type": "code",
   "execution_count": 4,
   "id": "9a1ba849-925b-4367-8516-dcb947f69b9b",
   "metadata": {},
   "outputs": [],
   "source": [
    "sas_token = 'se=2023-04-15T00%3A35Z&sp=racwdl&sv=2021-06-08&sr=c&skoid=598b2582-4d1d-4c4e-9bb2-3ad571b791b5&sktid=f6b6dd5b-f02f-441a-99a0-162ac5060bd2&skt=2023-04-08T00%3A35%3A28Z&ske=2023-04-15T00%3A35%3A00Z&sks=b&skv=2021-06-08&sig=wlicNZ52wri%2BNf8jSon/QYnlxYXtuimAHmeBlEf5M5o%3D'\n"
   ]
  },
  {
   "cell_type": "code",
   "execution_count": 5,
   "id": "3a04258e-1e1f-4d09-859e-92921e40ad1a",
   "metadata": {},
   "outputs": [
    {
     "data": {
      "text/plain": [
       "['snowmelt/eric/MGRS/10SFJ',\n",
       " 'snowmelt/eric/MGRS/10SGG',\n",
       " 'snowmelt/eric/MGRS/10SGH',\n",
       " 'snowmelt/eric/MGRS/10SGJ',\n",
       " 'snowmelt/eric/MGRS/10TDL',\n",
       " 'snowmelt/eric/MGRS/10TDM',\n",
       " 'snowmelt/eric/MGRS/10TDT',\n",
       " 'snowmelt/eric/MGRS/10TEL',\n",
       " 'snowmelt/eric/MGRS/10TEM',\n",
       " 'snowmelt/eric/MGRS/10TEN',\n",
       " 'snowmelt/eric/MGRS/10TEP',\n",
       " 'snowmelt/eric/MGRS/10TEQ',\n",
       " 'snowmelt/eric/MGRS/10TER',\n",
       " 'snowmelt/eric/MGRS/10TES',\n",
       " 'snowmelt/eric/MGRS/10TET',\n",
       " 'snowmelt/eric/MGRS/10TFK',\n",
       " 'snowmelt/eric/MGRS/10TFL',\n",
       " 'snowmelt/eric/MGRS/10TFM',\n",
       " 'snowmelt/eric/MGRS/10TFN',\n",
       " 'snowmelt/eric/MGRS/10TFP',\n",
       " 'snowmelt/eric/MGRS/10TFQ',\n",
       " 'snowmelt/eric/MGRS/10TFR',\n",
       " 'snowmelt/eric/MGRS/10TFS',\n",
       " 'snowmelt/eric/MGRS/10TFT',\n",
       " 'snowmelt/eric/MGRS/10TGK',\n",
       " 'snowmelt/eric/MGRS/10TGL',\n",
       " 'snowmelt/eric/MGRS/10TGM',\n",
       " 'snowmelt/eric/MGRS/10TGN',\n",
       " 'snowmelt/eric/MGRS/10TGP',\n",
       " 'snowmelt/eric/MGRS/10TGQ',\n",
       " 'snowmelt/eric/MGRS/10TGR',\n",
       " 'snowmelt/eric/MGRS/10TGS',\n",
       " 'snowmelt/eric/MGRS/10TGT',\n",
       " 'snowmelt/eric/MGRS/10UCV',\n",
       " 'snowmelt/eric/MGRS/10UDU',\n",
       " 'snowmelt/eric/MGRS/10UDV',\n",
       " 'snowmelt/eric/MGRS/10UEU',\n",
       " 'snowmelt/eric/MGRS/10UEV',\n",
       " 'snowmelt/eric/MGRS/10UFU',\n",
       " 'snowmelt/eric/MGRS/10UFV',\n",
       " 'snowmelt/eric/MGRS/10UGU',\n",
       " 'snowmelt/eric/MGRS/10UGV',\n",
       " 'snowmelt/eric/MGRS/11SKB',\n",
       " 'snowmelt/eric/MGRS/11SKC',\n",
       " 'snowmelt/eric/MGRS/11SKD',\n",
       " 'snowmelt/eric/MGRS/11SLA',\n",
       " 'snowmelt/eric/MGRS/11SLB',\n",
       " 'snowmelt/eric/MGRS/11SLC',\n",
       " 'snowmelt/eric/MGRS/11SLD',\n",
       " 'snowmelt/eric/MGRS/11SLV',\n",
       " 'snowmelt/eric/MGRS/11SMA',\n",
       " 'snowmelt/eric/MGRS/11SMB',\n",
       " 'snowmelt/eric/MGRS/11SMC',\n",
       " 'snowmelt/eric/MGRS/11SMD',\n",
       " 'snowmelt/eric/MGRS/11SNC',\n",
       " 'snowmelt/eric/MGRS/11SND',\n",
       " 'snowmelt/eric/MGRS/11SNT',\n",
       " 'snowmelt/eric/MGRS/11SPA',\n",
       " 'snowmelt/eric/MGRS/11SPC',\n",
       " 'snowmelt/eric/MGRS/11SPD',\n",
       " 'snowmelt/eric/MGRS/11SQC',\n",
       " 'snowmelt/eric/MGRS/11SQD',\n",
       " 'snowmelt/eric/MGRS/11TKE',\n",
       " 'snowmelt/eric/MGRS/11TKF',\n",
       " 'snowmelt/eric/MGRS/11TKG',\n",
       " 'snowmelt/eric/MGRS/11TLE',\n",
       " 'snowmelt/eric/MGRS/11TLF',\n",
       " 'snowmelt/eric/MGRS/11TLG',\n",
       " 'snowmelt/eric/MGRS/11TLH',\n",
       " 'snowmelt/eric/MGRS/11TLJ',\n",
       " 'snowmelt/eric/MGRS/11TLK',\n",
       " 'snowmelt/eric/MGRS/11TLL',\n",
       " 'snowmelt/eric/MGRS/11TLN',\n",
       " 'snowmelt/eric/MGRS/11TME',\n",
       " 'snowmelt/eric/MGRS/11TMF',\n",
       " 'snowmelt/eric/MGRS/11TMG',\n",
       " 'snowmelt/eric/MGRS/11TMH',\n",
       " 'snowmelt/eric/MGRS/11TMJ',\n",
       " 'snowmelt/eric/MGRS/11TMK',\n",
       " 'snowmelt/eric/MGRS/11TML',\n",
       " 'snowmelt/eric/MGRS/11TMM',\n",
       " 'snowmelt/eric/MGRS/11TMN',\n",
       " 'snowmelt/eric/MGRS/11TNE',\n",
       " 'snowmelt/eric/MGRS/11TNF',\n",
       " 'snowmelt/eric/MGRS/11TNG',\n",
       " 'snowmelt/eric/MGRS/11TNH',\n",
       " 'snowmelt/eric/MGRS/11TNJ',\n",
       " 'snowmelt/eric/MGRS/11TNK',\n",
       " 'snowmelt/eric/MGRS/11TNL',\n",
       " 'snowmelt/eric/MGRS/11TNM',\n",
       " 'snowmelt/eric/MGRS/11TNN',\n",
       " 'snowmelt/eric/MGRS/11TPE',\n",
       " 'snowmelt/eric/MGRS/11TPF',\n",
       " 'snowmelt/eric/MGRS/11TPG',\n",
       " 'snowmelt/eric/MGRS/11TPH',\n",
       " 'snowmelt/eric/MGRS/11TPJ',\n",
       " 'snowmelt/eric/MGRS/11TPK',\n",
       " 'snowmelt/eric/MGRS/11TPL',\n",
       " 'snowmelt/eric/MGRS/11TPM',\n",
       " 'snowmelt/eric/MGRS/11TPN',\n",
       " 'snowmelt/eric/MGRS/11TQE',\n",
       " 'snowmelt/eric/MGRS/11TQF',\n",
       " 'snowmelt/eric/MGRS/11TQG',\n",
       " 'snowmelt/eric/MGRS/11TQH',\n",
       " 'snowmelt/eric/MGRS/11TQJ',\n",
       " 'snowmelt/eric/MGRS/11TQK',\n",
       " 'snowmelt/eric/MGRS/11TQL',\n",
       " 'snowmelt/eric/MGRS/11TQM',\n",
       " 'snowmelt/eric/MGRS/11TQN',\n",
       " 'snowmelt/eric/MGRS/11ULP',\n",
       " 'snowmelt/eric/MGRS/11ULQ',\n",
       " 'snowmelt/eric/MGRS/11UMP',\n",
       " 'snowmelt/eric/MGRS/11UMQ',\n",
       " 'snowmelt/eric/MGRS/11UNP',\n",
       " 'snowmelt/eric/MGRS/11UNQ',\n",
       " 'snowmelt/eric/MGRS/11UPP',\n",
       " 'snowmelt/eric/MGRS/11UPQ',\n",
       " 'snowmelt/eric/MGRS/11UQP',\n",
       " 'snowmelt/eric/MGRS/11UQQ',\n",
       " 'snowmelt/eric/MGRS/12STG',\n",
       " 'snowmelt/eric/MGRS/12STH',\n",
       " 'snowmelt/eric/MGRS/12STJ',\n",
       " 'snowmelt/eric/MGRS/12SUF',\n",
       " 'snowmelt/eric/MGRS/12SUG',\n",
       " 'snowmelt/eric/MGRS/12SUH',\n",
       " 'snowmelt/eric/MGRS/12SUJ',\n",
       " 'snowmelt/eric/MGRS/12SVF',\n",
       " 'snowmelt/eric/MGRS/12SVG',\n",
       " 'snowmelt/eric/MGRS/12SVH',\n",
       " 'snowmelt/eric/MGRS/12SVJ',\n",
       " 'snowmelt/eric/MGRS/12SWG',\n",
       " 'snowmelt/eric/MGRS/12SWH',\n",
       " 'snowmelt/eric/MGRS/12SWJ',\n",
       " 'snowmelt/eric/MGRS/12SXC',\n",
       " 'snowmelt/eric/MGRS/12SXE',\n",
       " 'snowmelt/eric/MGRS/12SXF',\n",
       " 'snowmelt/eric/MGRS/12SXG',\n",
       " 'snowmelt/eric/MGRS/12SXH',\n",
       " 'snowmelt/eric/MGRS/12SXJ',\n",
       " 'snowmelt/eric/MGRS/12SYB',\n",
       " 'snowmelt/eric/MGRS/12SYC',\n",
       " 'snowmelt/eric/MGRS/12SYF',\n",
       " 'snowmelt/eric/MGRS/12SYG',\n",
       " 'snowmelt/eric/MGRS/12SYH',\n",
       " 'snowmelt/eric/MGRS/12SYJ',\n",
       " 'snowmelt/eric/MGRS/12TTK',\n",
       " 'snowmelt/eric/MGRS/12TTL',\n",
       " 'snowmelt/eric/MGRS/12TTM',\n",
       " 'snowmelt/eric/MGRS/12TUK',\n",
       " 'snowmelt/eric/MGRS/12TUL',\n",
       " 'snowmelt/eric/MGRS/12TUM',\n",
       " 'snowmelt/eric/MGRS/12TUN',\n",
       " 'snowmelt/eric/MGRS/12TUP',\n",
       " 'snowmelt/eric/MGRS/12TUQ',\n",
       " 'snowmelt/eric/MGRS/12TUR',\n",
       " 'snowmelt/eric/MGRS/12TUS',\n",
       " 'snowmelt/eric/MGRS/12TUT',\n",
       " 'snowmelt/eric/MGRS/12TVK',\n",
       " 'snowmelt/eric/MGRS/12TVL',\n",
       " 'snowmelt/eric/MGRS/12TVM',\n",
       " 'snowmelt/eric/MGRS/12TVN',\n",
       " 'snowmelt/eric/MGRS/12TVP',\n",
       " 'snowmelt/eric/MGRS/12TVQ',\n",
       " 'snowmelt/eric/MGRS/12TVR',\n",
       " 'snowmelt/eric/MGRS/12TVS',\n",
       " 'snowmelt/eric/MGRS/12TVT',\n",
       " 'snowmelt/eric/MGRS/12TWK',\n",
       " 'snowmelt/eric/MGRS/12TWL',\n",
       " 'snowmelt/eric/MGRS/12TWM',\n",
       " 'snowmelt/eric/MGRS/12TWN',\n",
       " 'snowmelt/eric/MGRS/12TWP',\n",
       " 'snowmelt/eric/MGRS/12TWQ',\n",
       " 'snowmelt/eric/MGRS/12TWR',\n",
       " 'snowmelt/eric/MGRS/12TWS',\n",
       " 'snowmelt/eric/MGRS/12TWT',\n",
       " 'snowmelt/eric/MGRS/12TXK',\n",
       " 'snowmelt/eric/MGRS/12TXL',\n",
       " 'snowmelt/eric/MGRS/12TXM',\n",
       " 'snowmelt/eric/MGRS/12TXN',\n",
       " 'snowmelt/eric/MGRS/12TXP',\n",
       " 'snowmelt/eric/MGRS/12TXQ',\n",
       " 'snowmelt/eric/MGRS/12TXR',\n",
       " 'snowmelt/eric/MGRS/12TXS',\n",
       " 'snowmelt/eric/MGRS/12TXT',\n",
       " 'snowmelt/eric/MGRS/12TYK',\n",
       " 'snowmelt/eric/MGRS/12TYL',\n",
       " 'snowmelt/eric/MGRS/12TYM',\n",
       " 'snowmelt/eric/MGRS/12TYN',\n",
       " 'snowmelt/eric/MGRS/12TYP',\n",
       " 'snowmelt/eric/MGRS/12TYQ',\n",
       " 'snowmelt/eric/MGRS/12TYR',\n",
       " 'snowmelt/eric/MGRS/12TYS',\n",
       " 'snowmelt/eric/MGRS/12TYT',\n",
       " 'snowmelt/eric/MGRS/12UUU',\n",
       " 'snowmelt/eric/MGRS/12UUV',\n",
       " 'snowmelt/eric/MGRS/12UVU',\n",
       " 'snowmelt/eric/MGRS/12UVV',\n",
       " 'snowmelt/eric/MGRS/12UWU',\n",
       " 'snowmelt/eric/MGRS/12UWV',\n",
       " 'snowmelt/eric/MGRS/12UXU',\n",
       " 'snowmelt/eric/MGRS/12UXV',\n",
       " 'snowmelt/eric/MGRS/12UYU',\n",
       " 'snowmelt/eric/MGRS/12UYV',\n",
       " 'snowmelt/eric/MGRS/13SBA',\n",
       " 'snowmelt/eric/MGRS/13SBB',\n",
       " 'snowmelt/eric/MGRS/13SBC',\n",
       " 'snowmelt/eric/MGRS/13SBD',\n",
       " 'snowmelt/eric/MGRS/13SBV',\n",
       " 'snowmelt/eric/MGRS/13SCA',\n",
       " 'snowmelt/eric/MGRS/13SCB',\n",
       " 'snowmelt/eric/MGRS/13SCC',\n",
       " 'snowmelt/eric/MGRS/13SCD',\n",
       " 'snowmelt/eric/MGRS/13SCV',\n",
       " 'snowmelt/eric/MGRS/13SDA',\n",
       " 'snowmelt/eric/MGRS/13SDB',\n",
       " 'snowmelt/eric/MGRS/13SDC',\n",
       " 'snowmelt/eric/MGRS/13SDD',\n",
       " 'snowmelt/eric/MGRS/13SDV',\n",
       " 'snowmelt/eric/MGRS/13SEA',\n",
       " 'snowmelt/eric/MGRS/13SEB',\n",
       " 'snowmelt/eric/MGRS/13SEC',\n",
       " 'snowmelt/eric/MGRS/13SED',\n",
       " 'snowmelt/eric/MGRS/13TBE',\n",
       " 'snowmelt/eric/MGRS/13TBF',\n",
       " 'snowmelt/eric/MGRS/13TBG',\n",
       " 'snowmelt/eric/MGRS/13TCE',\n",
       " 'snowmelt/eric/MGRS/13TCF',\n",
       " 'snowmelt/eric/MGRS/13TCG',\n",
       " 'snowmelt/eric/MGRS/13TCH',\n",
       " 'snowmelt/eric/MGRS/13TCJ',\n",
       " 'snowmelt/eric/MGRS/13TCK',\n",
       " 'snowmelt/eric/MGRS/13TCL',\n",
       " 'snowmelt/eric/MGRS/13TCM',\n",
       " 'snowmelt/eric/MGRS/13TCN',\n",
       " 'snowmelt/eric/MGRS/13TDE',\n",
       " 'snowmelt/eric/MGRS/13TDF',\n",
       " 'snowmelt/eric/MGRS/13TDG',\n",
       " 'snowmelt/eric/MGRS/13TDH',\n",
       " 'snowmelt/eric/MGRS/13TDJ',\n",
       " 'snowmelt/eric/MGRS/13TDK',\n",
       " 'snowmelt/eric/MGRS/13TDL',\n",
       " 'snowmelt/eric/MGRS/13TDM',\n",
       " 'snowmelt/eric/MGRS/13TDN',\n",
       " 'snowmelt/eric/MGRS/13TEF',\n",
       " 'snowmelt/eric/MGRS/13TEG',\n",
       " 'snowmelt/eric/MGRS/13TEH',\n",
       " 'snowmelt/eric/MGRS/13TEJ',\n",
       " 'snowmelt/eric/MGRS/13TEK',\n",
       " 'snowmelt/eric/MGRS/13TEL',\n",
       " 'snowmelt/eric/MGRS/13TEM',\n",
       " 'snowmelt/eric/MGRS/13TEN',\n",
       " 'snowmelt/eric/MGRS/13TFH',\n",
       " 'snowmelt/eric/MGRS/13TFJ',\n",
       " 'snowmelt/eric/MGRS/13TFK',\n",
       " 'snowmelt/eric/MGRS/13TFL',\n",
       " 'snowmelt/eric/MGRS/13TFM',\n",
       " 'snowmelt/eric/MGRS/13TFN',\n",
       " 'snowmelt/eric/MGRS/13TGH',\n",
       " 'snowmelt/eric/MGRS/13TGJ',\n",
       " 'snowmelt/eric/MGRS/13TGK',\n",
       " 'snowmelt/eric/MGRS/13TGL',\n",
       " 'snowmelt/eric/MGRS/13TGM',\n",
       " 'snowmelt/eric/MGRS/13TGN',\n",
       " 'snowmelt/eric/MGRS/13UCP',\n",
       " 'snowmelt/eric/MGRS/13UCQ',\n",
       " 'snowmelt/eric/MGRS/13UDP',\n",
       " 'snowmelt/eric/MGRS/13UDQ',\n",
       " 'snowmelt/eric/MGRS/13UEP',\n",
       " 'snowmelt/eric/MGRS/13UEQ',\n",
       " 'snowmelt/eric/MGRS/13UFP',\n",
       " 'snowmelt/eric/MGRS/13UFQ',\n",
       " 'snowmelt/eric/MGRS/13UGP',\n",
       " 'snowmelt/eric/MGRS/13UGQ']"
      ]
     },
     "execution_count": 5,
     "metadata": {},
     "output_type": "execute_result"
    }
   ],
   "source": [
    "fs = adlfs.AzureBlobFileSystem(account_name=\"snowmelt\", credential=sas_token, anon=True)\n",
    "fs.ls('snowmelt/eric/MGRS/')"
   ]
  },
  {
   "cell_type": "code",
   "execution_count": null,
   "id": "e2c11dc5-5bc3-47ac-9923-808081e41688",
   "metadata": {},
   "outputs": [],
   "source": [
    "#import adlfs\n",
    "# use read only token\n",
    "#sas_token = 'se=2023-03-29T19%3A05Z&sp=racwdl&sv=2021-06-08&sr=c&skoid=598b2582-4d1d-4c4e-9bb2-3ad571b791b5&sktid=f6b6dd5b-f02f-441a-99a0-162ac5060bd2&skt=2023-03-22T19%3A05%3A35Z&ske=2023-03-29T19%3A05%3A00Z&sks=b&skv=2021-06-08&sig=DvlXJ0Mrc%2BGn5MNaUWVTZFWmRu73NYHIi8yPekspmyc%3D'\n",
    "#tile_names = [tile[-5:] for tile in adlfs.AzureBlobFileSystem(account_name=\"snowmelt\", credential=sas_token, anon=False).ls('snowmelt/eric/MGRS/')]"
   ]
  },
  {
   "cell_type": "code",
   "execution_count": null,
   "id": "0e4a037b-cbe6-4528-9777-5d2945bd28f4",
   "metadata": {},
   "outputs": [],
   "source": [
    "#tile_names"
   ]
  },
  {
   "cell_type": "code",
   "execution_count": null,
   "id": "7a9b2502-0e7c-45e4-a833-0ec6bb01803c",
   "metadata": {},
   "outputs": [],
   "source": [
    "#fs.delete(\"snowmelt/eric/MGRS/10TGM/runoff_onset_10TGM_2022_median_40m.tif'\")\n",
    "#fs.delete(\"snowmelt/eric/MGRS/12SXC/\", recursive=True)"
   ]
  },
  {
   "cell_type": "code",
   "execution_count": 6,
   "id": "3eae08c7-02c8-40c0-a660-c3dbb539694e",
   "metadata": {},
   "outputs": [],
   "source": [
    "fs.delete(\"snowmelt/eric/MGRS/*/*80m.tif\")"
   ]
  },
  {
   "cell_type": "code",
   "execution_count": 7,
   "id": "bcaa16b6-c548-465e-aa9c-6ea4ec386434",
   "metadata": {},
   "outputs": [
    {
     "data": {
      "text/plain": [
       "['snowmelt/eric/MGRS/10TGM/runoff_onset_10TGM_2015_median_40m.tif',\n",
       " 'snowmelt/eric/MGRS/10TGM/runoff_onset_10TGM_2016_median_40m.tif',\n",
       " 'snowmelt/eric/MGRS/10TGM/runoff_onset_10TGM_2017_median_40m.tif',\n",
       " 'snowmelt/eric/MGRS/10TGM/runoff_onset_10TGM_2018_median_40m.tif',\n",
       " 'snowmelt/eric/MGRS/10TGM/runoff_onset_10TGM_2019_median_40m.tif',\n",
       " 'snowmelt/eric/MGRS/10TGM/runoff_onset_10TGM_2020_median_40m.tif',\n",
       " 'snowmelt/eric/MGRS/10TGM/runoff_onset_10TGM_2021_median_40m.tif',\n",
       " 'snowmelt/eric/MGRS/10TGM/runoff_onset_10TGM_2022_median_40m.tif']"
      ]
     },
     "execution_count": 7,
     "metadata": {},
     "output_type": "execute_result"
    }
   ],
   "source": [
    "fs.ls('snowmelt/eric/MGRS/10TGM/')"
   ]
  },
  {
   "cell_type": "code",
   "execution_count": null,
   "id": "468f4e12-ec9b-488d-886f-0432685f3757",
   "metadata": {},
   "outputs": [],
   "source": [
    "#with io.BytesIO() as buffer:\n",
    "#    ts_ds.isel(time=0).isel(band=0).rio.to_raster(buffer, driver=\"COG\")\n",
    "#    buffer.seek(0)\n",
    "#    blob_client = container_client.get_blob_client(f\"eric/mgrs/{}\")\n",
    "#    blob_client.upload_blob(buffer, overwrite=True)"
   ]
  },
  {
   "cell_type": "code",
   "execution_count": null,
   "id": "62f329d7-21ae-40f1-b097-7cf5de12419d",
   "metadata": {},
   "outputs": [],
   "source": [
    "#sas_token = getpass.getpass()  # prompts for the sas_token\n",
    "sas_token = \"se=2023-02-20T20%3A51Z&sp=racwdl&sv=2018-11-09&sr=c&skoid=b4d39ccb-ca9c-4e9d-a183-5e0f3ba3e609&sktid=f6b6dd5b-f02f-441a-99a0-162ac5060bd2&skt=2023-02-13T20%3A52%3A06Z&ske=2023-02-20T20%3A51%3A00Z&sks=b&skv=2018-11-09&sig=C4rfs7%2BUt5kqABSyxX8qZ0R%2Bbuh9CMlRrYvRN1VtSwc%3D\"\n",
    "container_client = azure.storage.blob.ContainerClient(\n",
    "    \"https://snowmelt.blob.core.windows.net\",\n",
    "    container_name=\"snowmelt\",\n",
    "    credential=sas_token,\n",
    ")"
   ]
  },
  {
   "cell_type": "code",
   "execution_count": null,
   "id": "bfc71d24-9020-4d8c-bec4-e3c628586715",
   "metadata": {},
   "outputs": [],
   "source": [
    "file_list = [item['name'] for item in list(container_client.list_blobs())]"
   ]
  },
  {
   "cell_type": "code",
   "execution_count": null,
   "id": "cb817af0-5e54-4326-94dc-80db7414ed76",
   "metadata": {},
   "outputs": [],
   "source": [
    "file_list"
   ]
  },
  {
   "cell_type": "code",
   "execution_count": null,
   "id": "67eb7048-6f07-4d50-a4fb-70715cb576c5",
   "metadata": {},
   "outputs": [],
   "source": [
    "#!gdalinfo \"https://snowmelt.blob.core.windows.net/snowmelt/eric/MGRS/12TYM/runoff_onset_12TYM_2019_median_40m.tif\"\n",
    "#!gdalinfo 'https://snowmelt.blob.core.windows.net/snowmelt/eric/MGRS/10UEV/runoff_onset_10UEV_2017_median_80m.tif'\n",
    "!gdalinfo 'https://snowmelt.blob.core.windows.net/snowmelt/eric/MGRS/13UDP/runoff_onset_13UDP_2016_median_80m.tif'"
   ]
  },
  {
   "cell_type": "code",
   "execution_count": null,
   "id": "107d2f8f-e8cb-44c0-a43b-b6ee18b0c564",
   "metadata": {},
   "outputs": [],
   "source": [
    "URL = 'https://snowmelt.blob.core.windows.net/snowmelt/eric/MGRS/13UEP/runoff_onset_13UEP_2020_median_80m.tif'\n",
    "#URL = 'https://snowmelt.blob.core.windows.net/snowmelt/eric/MGRS/13UEP/runoff_onset_13UEP_allyears_median_80m.tif'\n",
    "#URL = 'https://snowmelt.blob.core.windows.net/snowmelt/eric/MGRS/13UEP/runoff_onset_13UEP_allyears_std_80m.tif'\n",
    "#URL = 'https://snowmelt.blob.core.windows.net/snowmelt/eric/MGRS/13UEP/runoff_onset_13UEP_allyears_corr_strength_80m.tif'\n",
    "#URL = 'https://snowmelt.blob.core.windows.net/snowmelt/eric/MGRS/10SFJ/runoff_onset_10SFJ_2021_median_80m.tif'"
   ]
  },
  {
   "cell_type": "code",
   "execution_count": null,
   "id": "eff1b5ed-5133-4c25-a2fd-8c4455321155",
   "metadata": {},
   "outputs": [],
   "source": [
    "!gdalinfo $URL"
   ]
  },
  {
   "cell_type": "code",
   "execution_count": null,
   "id": "f4536a18-837f-438f-aad1-e3d31013e1cc",
   "metadata": {},
   "outputs": [],
   "source": [
    "response = requests.head(URL, allow_redirects=True)\n",
    "size = response.headers.get('content-length', -1)\n",
    "print('{:<40}: {:.2f} MB'.format('FILE SIZE', int(size) / float(1 << 20)))"
   ]
  },
  {
   "cell_type": "code",
   "execution_count": null,
   "id": "f6b5839d-d4fe-4387-9783-787e550bf4df",
   "metadata": {},
   "outputs": [],
   "source": [
    "import rioxarray as rxr"
   ]
  },
  {
   "cell_type": "code",
   "execution_count": null,
   "id": "afb695cd-8f7e-4ab1-ad27-3f0df08ac04c",
   "metadata": {},
   "outputs": [],
   "source": [
    "m80 = rxr.open_rasterio('https://snowmelt.blob.core.windows.net/snowmelt/eric/MGRS/13UDP/runoff_onset_13UDP_2016_median_80m.tif',mask_and_scale=True)\n",
    "#m40 = rxr.open_rasterio('https://snowmelt.blob.core.windows.net/snowmelt/eric/MGRS/10UEV/runoff_onset_10UEV_2017_median_40m.tif')"
   ]
  },
  {
   "cell_type": "code",
   "execution_count": null,
   "id": "5149d8f5-df23-467d-a271-a118d32fd90e",
   "metadata": {},
   "outputs": [],
   "source": [
    "m80"
   ]
  },
  {
   "cell_type": "code",
   "execution_count": null,
   "id": "04784208-2695-4da9-b9d9-664c3051e4f8",
   "metadata": {},
   "outputs": [],
   "source": [
    "!conda create -y -n azure python\n",
    "!conda activate azure\n",
    "!pip install azure-cli"
   ]
  },
  {
   "cell_type": "code",
   "execution_count": null,
   "id": "706cde84-e833-4c26-888a-146abc80fcd2",
   "metadata": {},
   "outputs": [],
   "source": [
    "!az login"
   ]
  },
  {
   "cell_type": "code",
   "execution_count": null,
   "id": "bb8c7768-803e-43c7-8729-c2fdc17067fa",
   "metadata": {},
   "outputs": [],
   "source": [
    "!date -u -d \"7 days\" '+%Y-%m-%dT%H:%MZ'"
   ]
  },
  {
   "cell_type": "code",
   "execution_count": null,
   "id": "cf1a5a2b-571f-421f-b703-4276a48d4d04",
   "metadata": {},
   "outputs": [],
   "source": [
    "# NOTE: 7 day max on these tokens\n",
    "#end=`date -u -d \"7 days\" '+%Y-%m-%dT%H:%MZ'`\n",
    "\n",
    "!az storage container generate-sas \\\n",
    "    --account-name snowmelt\\\n",
    "    --name snowmelt \\\n",
    "    --permissions acdlrw \\\n",
    "    --expiry 2023-04-15T00:35Z \\\n",
    "    --auth-mode login \\\n",
    "    --as-user\n",
    "\n",
    "\n",
    "# az storage container generate-sas \\\n",
    "#     --account-name snowmelt\\\n",
    "#     --name snowmelt \\\n",
    "#     --permissions rl \\\n",
    "#     --expiry 2023-02-13T19:15Z \\\n",
    "#     --auth-mode login \\\n",
    "#     --as-user"
   ]
  },
  {
   "cell_type": "code",
   "execution_count": null,
   "id": "d3669a1f-b7ce-44b4-8333-1cfb35f0f6c8",
   "metadata": {},
   "outputs": [],
   "source": []
  }
 ],
 "metadata": {
  "kernelspec": {
   "display_name": "Python [conda env:notebook] *",
   "language": "python",
   "name": "conda-env-notebook-py"
  },
  "language_info": {
   "codemirror_mode": {
    "name": "ipython",
    "version": 3
   },
   "file_extension": ".py",
   "mimetype": "text/x-python",
   "name": "python",
   "nbconvert_exporter": "python",
   "pygments_lexer": "ipython3",
   "version": "3.10.6"
  }
 },
 "nbformat": 4,
 "nbformat_minor": 5
}
